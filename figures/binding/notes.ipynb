{
 "cells": [
  {
   "cell_type": "markdown",
   "metadata": {},
   "source": [
    "# General Binding Curve Notes\n",
    "\n",
    "Here I will attempt to maintain a \"living document\" of notes related to the binding curve. \n",
    "\n",
    "A bit tardy to the part, started 2025/02/13."
   ]
  },
  {
   "cell_type": "markdown",
   "metadata": {},
   "source": [
    "Some general notes: \n",
    "- In the data files, # means first column still running, #! first column far from complete, ## second column, etc.\n",
    "- "
   ]
  }
 ],
 "metadata": {
  "kernelspec": {
   "display_name": "py312",
   "language": "python",
   "name": "python3"
  },
  "language_info": {
   "name": "python",
   "version": "3.12.6"
  }
 },
 "nbformat": 4,
 "nbformat_minor": 2
}
