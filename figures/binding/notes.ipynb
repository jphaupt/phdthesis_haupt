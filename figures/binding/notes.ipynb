{
 "cells": [
  {
   "cell_type": "markdown",
   "metadata": {},
   "source": [
    "# General Multireference TC Notes\n",
    "\n",
    "Here I will attempt to maintain a \"living document\" of notes related to the binding curves and excited states chapter. \n",
    "\n",
    "A bit tardy to the part, started 2025/02/13."
   ]
  },
  {
   "cell_type": "markdown",
   "metadata": {},
   "source": [
    "Some general notes: \n",
    "- In the data files, # means first column still running, #! first column far from complete, ## second column, etc.\n",
    "- open a new jupyter notebook with `touch notebook.ipynb; code notebook.ipynb` -- for some reason opening it directly with code gives rather unpleasant bugs where it overwrites things... :(\n",
    "- You can hide/collapse a cell by pressing the blue bar on the left of the cell input/output.\n",
    "- You can also collapse entire sections by pressing the little arrow next to a header. \n",
    "- You can general a table of contents for jupyter in the command pallette (thanks to an extension). \n",
    "-  use pandoc style citations [@haupt2022; @laughlinTheory2000] and worry about matching citations when building in LaTeX (use pandoc to convert these).\n",
    "- Maybe for a cleaner notebook, you can add functions in separate files, and import like so:\n"
   ]
  },
  {
   "cell_type": "code",
   "execution_count": 1,
   "metadata": {},
   "outputs": [
    {
     "name": "stdout",
     "output_type": "stream",
     "text": [
      "hello\n"
     ]
    },
    {
     "data": {
      "text/plain": [
       "<function tmp.<lambda>(f)>"
      ]
     },
     "execution_count": 1,
     "metadata": {},
     "output_type": "execute_result"
    }
   ],
   "source": [
    "import tmp\n",
    "tmp.print_hello()\n",
    "tmp.display_csv"
   ]
  },
  {
   "cell_type": "markdown",
   "metadata": {},
   "source": [
    "I already have a file `exc_calcs.ipynb` (though in practice I don't like this separation). "
   ]
  }
 ],
 "metadata": {
  "kernelspec": {
   "display_name": "py312",
   "language": "python",
   "name": "python3"
  },
  "language_info": {
   "codemirror_mode": {
    "name": "ipython",
    "version": 3
   },
   "file_extension": ".py",
   "mimetype": "text/x-python",
   "name": "python",
   "nbconvert_exporter": "python",
   "pygments_lexer": "ipython3",
   "version": "3.12.6"
  }
 },
 "nbformat": 4,
 "nbformat_minor": 2
}
