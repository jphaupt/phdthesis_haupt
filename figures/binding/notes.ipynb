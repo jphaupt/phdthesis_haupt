{
 "cells": [
  {
   "cell_type": "markdown",
   "metadata": {},
   "source": [
    "# General Multireference TC Notes\n",
    "\n",
    "Here I will attempt to maintain a \"living document\" of notes related to the binding curves and excited states chapter. \n",
    "\n",
    "A bit tardy to the part, started 2025/02/13."
   ]
  },
  {
   "cell_type": "markdown",
   "metadata": {},
   "source": [
    "Some general notes: \n",
    "- In the data files, # means first column still running, #! first column far from complete, ## second column, etc.\n",
    "- open a new jupyter notebook with `touch notebook.ipynb; code notebook.ipynb` -- for some reason opening it directly with code gives rather unpleasant bugs where it overwrites things... :(\n",
    "- You can hide/collapse a cell by pressing the blue bar on the left of the cell input/output.\n",
    "- You can also collapse entire sections by pressing the little arrow next to a header. \n",
    "- If you want, you can generate a table of contents for jupyter in the command pallette (thanks to an extension). However, note that there is already an \"outline\" section in the sidebar...\n",
    "-  use pandoc style citations [@haupt2022; @laughlinTheory2000] and worry about matching citations when building in LaTeX (use pandoc to convert these).\n",
    "- Maybe for a cleaner notebook, you can add functions in separate files, and import like so:\n"
   ]
  },
  {
   "cell_type": "code",
   "execution_count": 1,
   "metadata": {},
   "outputs": [
    {
     "name": "stdout",
     "output_type": "stream",
     "text": [
      "hello\n"
     ]
    },
    {
     "data": {
      "text/plain": [
       "<function tmp.<lambda>(f)>"
      ]
     },
     "execution_count": 1,
     "metadata": {},
     "output_type": "execute_result"
    }
   ],
   "source": [
    "import tmp\n",
    "tmp.print_hello()\n",
    "tmp.display_csv"
   ]
  },
  {
   "cell_type": "markdown",
   "metadata": {},
   "source": [
    "I already have a file `exc_calcs.ipynb` (though in practice I don't like this separation). "
   ]
  },
  {
   "cell_type": "markdown",
   "metadata": {},
   "source": [
    "Singlet excited state calculations are really not doing great and making me wonder if I am targeting them properly\n",
    "TODO\n",
    "Running a small calculation logging s^2\n",
    "/algpfs1/phaupt/neci/spin-gaps/standard_fciqmc/fixparity2024/N2/augccpvtz/CAS10_8/1Sigu-/04_fciqmc/walker_3e+07\n",
    "\n",
    "In future, might want to use a value like 1000 for instant-s2-init 1000 to only use initiators every 1000 iterations to check the spin value"
   ]
  },
  {
   "cell_type": "markdown",
   "metadata": {},
   "source": [
    "It looks like the CASSCF calculations with PySCF *do* actually recreate the ones with Molpro. I was making a mistake in generating the orbitals earlier. \n",
    "\n",
    "However, the molpro ones are not properly converged! Ignoring the PySCF ones for now. <- revisit for the paper"
   ]
  },
  {
   "cell_type": "markdown",
   "metadata": {},
   "source": [
    "The error in the size consistency is not actually so small. The VMC optimisation error is about 0.1 mHa, so the error on the size consistency is\n",
    "$\\delta\\Delta E = \\delta E_{mol} + 2\\delta E_{at} = 0.3$"
   ]
  },
  {
   "cell_type": "markdown",
   "metadata": {},
   "source": [
    "CASCI is *not* size consistent! Not even the non-TC version is size consistent. For the universal Jastrows, it might therefore make the most sense to stick to the FCIQMC-Jastrows!"
   ]
  },
  {
   "cell_type": "markdown",
   "metadata": {},
   "source": [
    "TODO \n",
    "- [ ] try the multidet atom calculation with separate Jastrow treatment and see how that goes -- maybe you get the old energy back\n",
    "  - /algpfs1/phaupt/neci/meanfield/bind/size_consistent/N_enL4_C3_nd100_s3_fixparity/augccpvtz/03_tchint_sep/tchint.yml \n",
    "  - /algpfs1/phaupt/neci/meanfield/bind/size_consistent/N_enL4_C3_nd1_s3_fixparity/augccpvtz/04_fciqmc_sep/walker_3e+05\n",
    "- trying a different build:\n",
    "  - /algpfs1/phaupt/neci/meanfield/bind/size_consistent/N_enL4_C3_nd100_s3_fixparity/augccpvtz/03_tchint2\n",
    "  - /algpfs1/phaupt/neci/meanfield/bind/size_consistent/N_enL4_C3_nd100_s3_fixparity/augccpvtz/03_tchint_sep2\n",
    "- seem to genuinely differ for some fucking reason"
   ]
  },
  {
   "cell_type": "markdown",
   "metadata": {},
   "source": [
    "Running nontc now for dissociated limit to see size consistency error\n",
    "also asked evelin to run the mrci-d-f12 atom to get a size consistency error for that too"
   ]
  }
 ],
 "metadata": {
  "kernelspec": {
   "display_name": "py312",
   "language": "python",
   "name": "python3"
  },
  "language_info": {
   "codemirror_mode": {
    "name": "ipython",
    "version": 3
   },
   "file_extension": ".py",
   "mimetype": "text/x-python",
   "name": "python",
   "nbconvert_exporter": "python",
   "pygments_lexer": "ipython3",
   "version": "3.12.6"
  }
 },
 "nbformat": 4,
 "nbformat_minor": 2
}
