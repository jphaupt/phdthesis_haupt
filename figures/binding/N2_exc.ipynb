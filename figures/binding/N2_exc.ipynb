{
 "cells": [
  {
   "cell_type": "markdown",
   "metadata": {},
   "source": [
    "**Table of contents**<a id='toc0_'></a>    \n",
    "- [N2 Excited State Data](#toc1_)    \n",
    "\n",
    "<!-- vscode-jupyter-toc-config\n",
    "\tnumbering=false\n",
    "\tanchor=true\n",
    "\tflat=false\n",
    "\tminLevel=1\n",
    "\tmaxLevel=6\n",
    "\t/vscode-jupyter-toc-config -->\n",
    "<!-- THIS CELL WILL BE REPLACED ON TOC UPDATE. DO NOT WRITE YOUR TEXT IN THIS CELL -->"
   ]
  },
  {
   "cell_type": "markdown",
   "metadata": {},
   "source": [
    "# <a id='toc1_'></a>[N2 Excited State Data](#toc0_)\n",
    "**first testing if jupyer is a good notetaking tool**\n",
    "\n",
    "\n",
    "| state  | avdz             | avtz             |\n",
    "| ------ | ---------------- | ---------------- |\n",
    "| gs     | -109.4869509(85) | -109.534973(17)* |\n",
    "| 1Pig   | -109.145116(82)  | -109.19543(16)** |\n",
    "| 1Sigu- | -109.12030(20)   |                  |\n",
    "| 1Delu  | -109.107187(52)  |                  |\n",
    "| 3Sigu+ | -109.201567(40)  |                  |\n",
    "| 3Pig   | -109.192041(41)  |                  |\n",
    "| 3Delu  | -109.156050(34)  |                  |"
   ]
  },
  {
   "cell_type": "markdown",
   "metadata": {},
   "source": [
    "just use pandoc style citations [@haupt2022; @laughlinTheory2000] and worry about matching citations when building in LaTeX (use pandoc to convert these)\n",
    "\n",
    "!cat table.md\n"
   ]
  },
  {
   "cell_type": "code",
   "execution_count": 24,
   "metadata": {},
   "outputs": [
    {
     "name": "stdout",
     "output_type": "stream",
     "text": [
      "Result = 1.2(5)\n"
     ]
    }
   ],
   "source": [
    "from IPython.display import Markdown, display\n",
    "import pandas as pd\n",
    "import uncertainties\n",
    "from uncertainties import ufloat_fromstr\n",
    "import string\n",
    "\n",
    "\n",
    "\n",
    "display_csv = lambda f: display(Markdown(pd.read_csv(f,comment=\"#\").to_markdown(index=False)))\n",
    "display_md = lambda f: display(Markdown(open(f).read()))"
   ]
  },
  {
   "cell_type": "code",
   "execution_count": 25,
   "metadata": {},
   "outputs": [
    {
     "data": {
      "text/markdown": [
       "|  state     |  avdz                |  avtz           |\n",
       "|:-----------|:---------------------|:----------------|\n",
       "| gs         | -109.4869509(85)     | -109.534973(17) |\n",
       "| 1Pig       | -109.145116(82)      | nan             |\n",
       "| 1Sigu-     | -109.12030(20)       | nan             |\n",
       "| 1Delu      | -109.107187(52)      | nan             |\n",
       "| 3Sigu+     | -109.201567(40)      | nan             |\n",
       "| 3Pig       | -109.192041(41)      | nan             |\n",
       "| 3Delu      | -109.156050(34)      | nan             |"
      ],
      "text/plain": [
       "<IPython.core.display.Markdown object>"
      ]
     },
     "metadata": {},
     "output_type": "display_data"
    }
   ],
   "source": [
    "# # display(Markdown(\"tmp.md\"))\n",
    "# display(Markdown(pd.read_csv(\"tmp.csv\").to_markdown(index=False)))\n",
    "display_csv(\"N2_states.csv\")\n",
    "# display_md(\"N2_states.md\")"
   ]
  },
  {
   "cell_type": "code",
   "execution_count": 130,
   "metadata": {},
   "outputs": [
    {
     "data": {
      "text/html": [
       "<div>\n",
       "<style scoped>\n",
       "    .dataframe tbody tr th:only-of-type {\n",
       "        vertical-align: middle;\n",
       "    }\n",
       "\n",
       "    .dataframe tbody tr th {\n",
       "        vertical-align: top;\n",
       "    }\n",
       "\n",
       "    .dataframe thead th {\n",
       "        text-align: right;\n",
       "    }\n",
       "</style>\n",
       "<table border=\"1\" class=\"dataframe\">\n",
       "  <thead>\n",
       "    <tr style=\"text-align: right;\">\n",
       "      <th></th>\n",
       "      <th>state</th>\n",
       "      <th>avdz</th>\n",
       "      <th>avtz</th>\n",
       "    </tr>\n",
       "  </thead>\n",
       "  <tbody>\n",
       "    <tr>\n",
       "      <th>0</th>\n",
       "      <td>gs</td>\n",
       "      <td>-109.486951(8)</td>\n",
       "      <td>-109.53497(2)</td>\n",
       "    </tr>\n",
       "    <tr>\n",
       "      <th>1</th>\n",
       "      <td>1Pig</td>\n",
       "      <td>-109.14512(8)</td>\n",
       "      <td>+nan(1)</td>\n",
       "    </tr>\n",
       "    <tr>\n",
       "      <th>2</th>\n",
       "      <td>1Sigu-</td>\n",
       "      <td>-109.1203(2)</td>\n",
       "      <td>+nan(1)</td>\n",
       "    </tr>\n",
       "    <tr>\n",
       "      <th>3</th>\n",
       "      <td>1Delu</td>\n",
       "      <td>-109.10719(5)</td>\n",
       "      <td>+nan(1)</td>\n",
       "    </tr>\n",
       "    <tr>\n",
       "      <th>4</th>\n",
       "      <td>3Sigu+</td>\n",
       "      <td>-109.20157(4)</td>\n",
       "      <td>+nan(1)</td>\n",
       "    </tr>\n",
       "    <tr>\n",
       "      <th>5</th>\n",
       "      <td>3Pig</td>\n",
       "      <td>-109.19204(4)</td>\n",
       "      <td>+nan(1)</td>\n",
       "    </tr>\n",
       "    <tr>\n",
       "      <th>6</th>\n",
       "      <td>3Delu</td>\n",
       "      <td>-109.15605(3)</td>\n",
       "      <td>+nan(1)</td>\n",
       "    </tr>\n",
       "  </tbody>\n",
       "</table>\n",
       "</div>"
      ],
      "text/plain": [
       "    state            avdz           avtz\n",
       "0      gs  -109.486951(8)  -109.53497(2)\n",
       "1    1Pig   -109.14512(8)        +nan(1)\n",
       "2  1Sigu-    -109.1203(2)        +nan(1)\n",
       "3   1Delu   -109.10719(5)        +nan(1)\n",
       "4  3Sigu+   -109.20157(4)        +nan(1)\n",
       "5    3Pig   -109.19204(4)        +nan(1)\n",
       "6   3Delu   -109.15605(3)        +nan(1)"
      ]
     },
     "metadata": {},
     "output_type": "display_data"
    },
    {
     "data": {
      "text/plain": [
       "uncertainties.core.Variable"
      ]
     },
     "execution_count": 130,
     "metadata": {},
     "output_type": "execute_result"
    }
   ],
   "source": [
    "import pandas as pd\n",
    "\n",
    "from uncertainties import unumpy\n",
    "from uncertainties import ufloat, ufloat_fromstr\n",
    "from uncertainties.core import UFloat\n",
    "from math import isnan\n",
    "\n",
    "def format_ufloat(x):\n",
    "    if isinstance(x, type(ufloat(1, 1))):\n",
    "        return f\"{x:+.1uS}\"  # Uses the shorthand format\n",
    "    return x\n",
    "\n",
    "def col2ufloat(col):\n",
    "    return [ufloat_fromstr(\"nan\") if pd.isna(x) else ufloat_fromstr(x) for x in col]\n",
    "\n",
    "# read in data\n",
    "df = pd.read_csv(\"N2_states.csv\", comment='#', skipinitialspace=True)\n",
    "df = df.map(lambda x: x.strip() if isinstance(x, str) else x) # strip data\n",
    "df.rename(columns=lambda x: x.strip(), inplace=True) # strip headers too\n",
    "\n",
    "# handle NaNs as ufloats as well\n",
    "df[\"avdz\"] = col2ufloat(df[\"avdz\"])\n",
    "df[\"avtz\"] = col2ufloat(df[\"avtz\"])\n",
    "\n",
    "# NOTE this formatting converts to strings!\n",
    "def display_formatted(df):\n",
    "    # Create a copy to avoid modifying original\n",
    "    display_df = df.copy()\n",
    "\n",
    "    # Format ufloat columns\n",
    "    for col in df.columns:\n",
    "        if isinstance(df[col].iloc[0], UFloat):\n",
    "            display_df[col] = df[col].apply(lambda x: f\"{x:+.1uS}\")\n",
    "\n",
    "    display(display_df)\n",
    "\n",
    "display_formatted(df)\n",
    "type(df[\"avdz\"][1])"
   ]
  },
  {
   "cell_type": "code",
   "execution_count": 131,
   "metadata": {},
   "outputs": [
    {
     "data": {
      "text/plain": [
       "state                        gs\n",
       "avdz     -109.486951+/-0.000008\n",
       "avtz     -109.534973+/-0.000017\n",
       "Name: 0, dtype: object"
      ]
     },
     "metadata": {},
     "output_type": "display_data"
    },
    {
     "data": {
      "text/html": [
       "<div>\n",
       "<style scoped>\n",
       "    .dataframe tbody tr th:only-of-type {\n",
       "        vertical-align: middle;\n",
       "    }\n",
       "\n",
       "    .dataframe tbody tr th {\n",
       "        vertical-align: top;\n",
       "    }\n",
       "\n",
       "    .dataframe thead th {\n",
       "        text-align: right;\n",
       "    }\n",
       "</style>\n",
       "<table border=\"1\" class=\"dataframe\">\n",
       "  <thead>\n",
       "    <tr style=\"text-align: right;\">\n",
       "      <th></th>\n",
       "      <th>state</th>\n",
       "      <th>avdz</th>\n",
       "      <th>avtz</th>\n",
       "    </tr>\n",
       "  </thead>\n",
       "  <tbody>\n",
       "    <tr>\n",
       "      <th>1</th>\n",
       "      <td>1Pig</td>\n",
       "      <td>+0.34183(8)</td>\n",
       "      <td>+nan(1)</td>\n",
       "    </tr>\n",
       "    <tr>\n",
       "      <th>2</th>\n",
       "      <td>1Sigu-</td>\n",
       "      <td>+0.3667(2)</td>\n",
       "      <td>+nan(1)</td>\n",
       "    </tr>\n",
       "    <tr>\n",
       "      <th>3</th>\n",
       "      <td>1Delu</td>\n",
       "      <td>+0.37976(5)</td>\n",
       "      <td>+nan(1)</td>\n",
       "    </tr>\n",
       "    <tr>\n",
       "      <th>4</th>\n",
       "      <td>3Sigu+</td>\n",
       "      <td>+0.28538(4)</td>\n",
       "      <td>+nan(1)</td>\n",
       "    </tr>\n",
       "    <tr>\n",
       "      <th>5</th>\n",
       "      <td>3Pig</td>\n",
       "      <td>+0.29491(4)</td>\n",
       "      <td>+nan(1)</td>\n",
       "    </tr>\n",
       "    <tr>\n",
       "      <th>6</th>\n",
       "      <td>3Delu</td>\n",
       "      <td>+0.33090(4)</td>\n",
       "      <td>+nan(1)</td>\n",
       "    </tr>\n",
       "  </tbody>\n",
       "</table>\n",
       "</div>"
      ],
      "text/plain": [
       "    state         avdz     avtz\n",
       "1    1Pig  +0.34183(8)  +nan(1)\n",
       "2  1Sigu-   +0.3667(2)  +nan(1)\n",
       "3   1Delu  +0.37976(5)  +nan(1)\n",
       "4  3Sigu+  +0.28538(4)  +nan(1)\n",
       "5    3Pig  +0.29491(4)  +nan(1)\n",
       "6   3Delu  +0.33090(4)  +nan(1)"
      ]
     },
     "metadata": {},
     "output_type": "display_data"
    },
    {
     "data": {
      "text/plain": [
       "uncertainties.core.AffineScalarFunc"
      ]
     },
     "execution_count": 131,
     "metadata": {},
     "output_type": "execute_result"
    }
   ],
   "source": [
    "# Get gs values as a series\n",
    "gs_values = df[df['state'] == 'gs'].iloc[0]\n",
    "display(gs_values)\n",
    "\n",
    "# Create new dataframe excluding gs\n",
    "diff_df = df[df['state'] != 'gs'].copy()\n",
    "\n",
    "cols_to_diff = df.columns[1:]  # All columns except first\n",
    "for col in cols_to_diff:\n",
    "    # display(diff_df[col])\n",
    "    # display(gs_values[col])\n",
    "    diff_df[col] = diff_df[col] - gs_values[col]\n",
    "display_formatted(diff_df)\n",
    "type(diff_df[\"avdz\"].iloc[0])\n",
    "# type(ufloat(1, 1))"
   ]
  },
  {
   "cell_type": "code",
   "execution_count": null,
   "metadata": {},
   "outputs": [],
   "source": [
    "diff_df"
   ]
  }
 ],
 "metadata": {
  "kernelspec": {
   "display_name": "py312",
   "language": "python",
   "name": "python3"
  },
  "language_info": {
   "codemirror_mode": {
    "name": "ipython",
    "version": 3
   },
   "file_extension": ".py",
   "mimetype": "text/x-python",
   "name": "python",
   "nbconvert_exporter": "python",
   "pygments_lexer": "ipython3",
   "version": "3.12.6"
  }
 },
 "nbformat": 4,
 "nbformat_minor": 2
}
